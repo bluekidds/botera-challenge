{
 "cells": [
  {
   "cell_type": "code",
   "execution_count": 2,
   "metadata": {},
   "outputs": [],
   "source": [
    "import pandas as pd\n",
    "\n",
    "path = '../../data/raw/'"
   ]
  },
  {
   "cell_type": "code",
   "execution_count": 3,
   "metadata": {},
   "outputs": [
    {
     "data": {
      "text/html": [
       "<div>\n",
       "<style scoped>\n",
       "    .dataframe tbody tr th:only-of-type {\n",
       "        vertical-align: middle;\n",
       "    }\n",
       "\n",
       "    .dataframe tbody tr th {\n",
       "        vertical-align: top;\n",
       "    }\n",
       "\n",
       "    .dataframe thead th {\n",
       "        text-align: right;\n",
       "    }\n",
       "</style>\n",
       "<table border=\"1\" class=\"dataframe\">\n",
       "  <thead>\n",
       "    <tr style=\"text-align: right;\">\n",
       "      <th></th>\n",
       "      <th>DID</th>\n",
       "      <th>DTEXT</th>\n",
       "      <th>QUESTIONS</th>\n",
       "    </tr>\n",
       "  </thead>\n",
       "  <tbody>\n",
       "    <tr>\n",
       "      <th>0</th>\n",
       "      <td>D251</td>\n",
       "      <td>\"戰國末期,有一位慷慨赴義、壯烈成仁的荊軻,在易水河邊唱了一首短歌,跟送行的人訣別。那時候,...</td>\n",
       "      <td>[{'QID': 'D251Q01', 'QTYPE': '基礎題', 'QTEXT': '...</td>\n",
       "    </tr>\n",
       "    <tr>\n",
       "      <th>1</th>\n",
       "      <td>D252</td>\n",
       "      <td>\"賴東進出生在乞丐家庭,家裡共有十二個小孩。父親 眼全盲,母親與大弟都是重度智障,全家十四口...</td>\n",
       "      <td>[{'QID': 'D252Q01', 'QTYPE': '基礎題', 'QTEXT': '...</td>\n",
       "    </tr>\n",
       "    <tr>\n",
       "      <th>2</th>\n",
       "      <td>D253</td>\n",
       "      <td>西元一六O九年初夏,伽利略在威尼斯聽說有人發明了望遠鏡。他便以自己的科學知識為基礎, 弄懂了...</td>\n",
       "      <td>[{'QID': 'D253Q01', 'QTYPE': '基礎題', 'QTEXT': '...</td>\n",
       "    </tr>\n",
       "    <tr>\n",
       "      <th>3</th>\n",
       "      <td>D254</td>\n",
       "      <td>\"東漢時代的楊震,是一位品德高尚、學問淵博的人,全國各地慕名而來,向他求教的弟子多達千人。由...</td>\n",
       "      <td>[{'QID': 'D254Q01', 'QTYPE': '基礎題', 'QTEXT': '...</td>\n",
       "    </tr>\n",
       "    <tr>\n",
       "      <th>4</th>\n",
       "      <td>D255</td>\n",
       "      <td>\"讀書報告\\n書名:湯姆歷險記\\n作者:馬克·吐溫\\n譯者:蔡洛生\\n出版者:臺灣英文雜誌社...</td>\n",
       "      <td>[{'QID': 'D255Q01', 'QTYPE': '基礎題', 'QTEXT': '...</td>\n",
       "    </tr>\n",
       "  </tbody>\n",
       "</table>\n",
       "</div>"
      ],
      "text/plain": [
       "    DID                                              DTEXT  \\\n",
       "0  D251  \"戰國末期,有一位慷慨赴義、壯烈成仁的荊軻,在易水河邊唱了一首短歌,跟送行的人訣別。那時候,...   \n",
       "1  D252  \"賴東進出生在乞丐家庭,家裡共有十二個小孩。父親 眼全盲,母親與大弟都是重度智障,全家十四口...   \n",
       "2  D253  西元一六O九年初夏,伽利略在威尼斯聽說有人發明了望遠鏡。他便以自己的科學知識為基礎, 弄懂了...   \n",
       "3  D254  \"東漢時代的楊震,是一位品德高尚、學問淵博的人,全國各地慕名而來,向他求教的弟子多達千人。由...   \n",
       "4  D255  \"讀書報告\\n書名:湯姆歷險記\\n作者:馬克·吐溫\\n譯者:蔡洛生\\n出版者:臺灣英文雜誌社...   \n",
       "\n",
       "                                           QUESTIONS  \n",
       "0  [{'QID': 'D251Q01', 'QTYPE': '基礎題', 'QTEXT': '...  \n",
       "1  [{'QID': 'D252Q01', 'QTYPE': '基礎題', 'QTEXT': '...  \n",
       "2  [{'QID': 'D253Q01', 'QTYPE': '基礎題', 'QTEXT': '...  \n",
       "3  [{'QID': 'D254Q01', 'QTYPE': '基礎題', 'QTEXT': '...  \n",
       "4  [{'QID': 'D255Q01', 'QTYPE': '基礎題', 'QTEXT': '...  "
      ]
     },
     "execution_count": 3,
     "metadata": {},
     "output_type": "execute_result"
    }
   ],
   "source": [
    "FGC_release_B_df = pd.read_json(path+'FGC_release_B.json')\n",
    "FGC_release_B_df.head()"
   ]
  },
  {
   "cell_type": "code",
   "execution_count": null,
   "metadata": {},
   "outputs": [],
   "source": []
  }
 ],
 "metadata": {
  "kernelspec": {
   "display_name": "Python 3",
   "language": "python",
   "name": "python3"
  },
  "language_info": {
   "codemirror_mode": {
    "name": "ipython",
    "version": 3
   },
   "file_extension": ".py",
   "mimetype": "text/x-python",
   "name": "python",
   "nbconvert_exporter": "python",
   "pygments_lexer": "ipython3",
   "version": "3.6.8"
  }
 },
 "nbformat": 4,
 "nbformat_minor": 2
}
